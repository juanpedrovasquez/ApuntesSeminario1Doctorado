{
 "cells": [
  {
   "cell_type": "markdown",
   "metadata": {},
   "source": [
    "<img src=\"http://universidadcucii.mx/img/demos/law-firm/logo.png\" width=\"200\">\n",
    "\n",
    "# Universidad CUCII \n",
    "## Doctorado en innovación y administración educativa\n",
    "### Seminario de Investigación 1\n",
    "\n",
    "#### Sesión 03 (2018-11-24)"
   ]
  },
  {
   "cell_type": "markdown",
   "metadata": {},
   "source": [
    "##### 1. Otra vez el sesgado.csv\n",
    "Repitamos el proceso de carga del archivo [sesgado.csv](https://drive.google.com/file/d/1S_snpBmutsCSyq3n4u_OU2q2sZc7kTFf/view?usp=sharing) de la clase pasada, sin olvidar que debe estar en la ruta default de acceso a archivos de R, que en windox es en _Bibliotecas > Documentos._"
   ]
  },
  {
   "cell_type": "code",
   "execution_count": null,
   "metadata": {},
   "outputs": [],
   "source": []
  },
  {
   "cell_type": "code",
   "execution_count": null,
   "metadata": {},
   "outputs": [],
   "source": []
  },
  {
   "cell_type": "markdown",
   "metadata": {},
   "source": [
    "##### 2. Histograma con esteroides\n",
    "1. Etiquetas de ejes\n",
    "1. Títulos y subtítulos\n",
    "1. Colores\n",
    "1. Frecuencias a densidad\n",
    "1. Línea añadida de densidad\n",
    "1. Diferencia entre muestra y población\n",
    "1. Diferentes distribuciones de probabilidad"
   ]
  },
  {
   "cell_type": "code",
   "execution_count": null,
   "metadata": {},
   "outputs": [],
   "source": []
  },
  {
   "cell_type": "code",
   "execution_count": null,
   "metadata": {},
   "outputs": [],
   "source": []
  },
  {
   "cell_type": "markdown",
   "metadata": {},
   "source": [
    "##### 3. Gráfica de pay (de queso y zarzamoras por favor)\n",
    "1. Summary de datos\n",
    "1. Tablas básicas\n",
    "1. Proporciones\n",
    "1. Gráfica de pay"
   ]
  },
  {
   "cell_type": "code",
   "execution_count": null,
   "metadata": {},
   "outputs": [],
   "source": []
  },
  {
   "cell_type": "code",
   "execution_count": null,
   "metadata": {},
   "outputs": [],
   "source": []
  },
  {
   "cell_type": "markdown",
   "metadata": {},
   "source": [
    "##### 4. Gráfica de barras (de piña por favor)\n",
    "1. Datos numéricos\n",
    "1. Gráfica de barras"
   ]
  },
  {
   "cell_type": "code",
   "execution_count": null,
   "metadata": {},
   "outputs": [],
   "source": []
  },
  {
   "cell_type": "code",
   "execution_count": null,
   "metadata": {},
   "outputs": [],
   "source": []
  },
  {
   "cell_type": "code",
   "execution_count": null,
   "metadata": {},
   "outputs": [],
   "source": []
  }
 ],
 "metadata": {
  "kernelspec": {
   "display_name": "R",
   "language": "R",
   "name": "ir"
  },
  "language_info": {
   "codemirror_mode": "r",
   "file_extension": ".r",
   "mimetype": "text/x-r-source",
   "name": "R",
   "pygments_lexer": "r",
   "version": "3.5.1"
  }
 },
 "nbformat": 4,
 "nbformat_minor": 2
}
