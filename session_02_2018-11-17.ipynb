{
 "cells": [
  {
   "cell_type": "markdown",
   "metadata": {},
   "source": [
    "<img src=\"http://universidadcucii.mx/img/demos/law-firm/logo.png\" width=\"200\">\n",
    "\n",
    "# Universidad CUCII \n",
    "## Doctorado en innovación y administración educativa\n",
    "### Seminario de Investigación 1\n",
    "\n",
    "#### Sesión 02 (2018-11-17)"
   ]
  },
  {
   "cell_type": "markdown",
   "metadata": {},
   "source": [
    "##### 1. R y RStudio instalados y corriendo\n",
    "Todos los alumnos trabajan sobre la consola de RStudio, el programa que tiene el ícono similar a éste:\n",
    "<img src=\"https://www.rstudio.com/wp-content/uploads/2014/07/RStudio-Logo-Blue-Gradient.png\" width=\"200\">\n",
    "Y las órdenes se van tecleando en la consola, misma que se puede personalizar a través de Tools > Global Options > Pane Layout:\n",
    "<img src=\"https://ayeimanolr.files.wordpress.com/2013/04/r-rstudio-1-3-console.png\" width=\"400\">"
   ]
  },
  {
   "cell_type": "markdown",
   "metadata": {},
   "source": [
    "##### 2. Operaciones básicas\n",
    "R en principio puede ser como una supercalculadora:"
   ]
  },
  {
   "cell_type": "code",
   "execution_count": 1,
   "metadata": {},
   "outputs": [
    {
     "data": {
      "text/html": [
       "9"
      ],
      "text/latex": [
       "9"
      ],
      "text/markdown": [
       "9"
      ],
      "text/plain": [
       "[1] 9"
      ]
     },
     "metadata": {},
     "output_type": "display_data"
    }
   ],
   "source": [
    "#suma\n",
    "2 + 7"
   ]
  },
  {
   "cell_type": "code",
   "execution_count": 2,
   "metadata": {},
   "outputs": [
    {
     "data": {
      "text/html": [
       "14"
      ],
      "text/latex": [
       "14"
      ],
      "text/markdown": [
       "14"
      ],
      "text/plain": [
       "[1] 14"
      ]
     },
     "metadata": {},
     "output_type": "display_data"
    }
   ],
   "source": [
    "#multiplicación\n",
    "2 * 7"
   ]
  },
  {
   "cell_type": "code",
   "execution_count": 3,
   "metadata": {},
   "outputs": [
    {
     "data": {
      "text/html": [
       "14"
      ],
      "text/latex": [
       "14"
      ],
      "text/markdown": [
       "14"
      ],
      "text/plain": [
       "[1] 14"
      ]
     },
     "metadata": {},
     "output_type": "display_data"
    }
   ],
   "source": [
    "#multiplicación\n",
    "2 * 7"
   ]
  },
  {
   "cell_type": "code",
   "execution_count": 4,
   "metadata": {},
   "outputs": [
    {
     "data": {
      "text/html": [
       "2"
      ],
      "text/latex": [
       "2"
      ],
      "text/markdown": [
       "2"
      ],
      "text/plain": [
       "[1] 2"
      ]
     },
     "metadata": {},
     "output_type": "display_data"
    }
   ],
   "source": [
    "#residuo de dividir 37 entre 5\n",
    "37 %% 5"
   ]
  },
  {
   "cell_type": "code",
   "execution_count": 5,
   "metadata": {},
   "outputs": [],
   "source": [
    "#para obtener una lista de todos los operadores\n",
    "#aritméticos, con el comando help accedemos a la\n",
    "#ayuda sobre cualquier instrucción, en este caso\n",
    "#el símbolo de más \"+\"\n",
    "help(\"+\")"
   ]
  },
  {
   "cell_type": "markdown",
   "metadata": {},
   "source": [
    "##### 3. Precedencia de operaciones\n",
    "Si no se utilizan los paréntesis, hay que tener cuidado al escribir las operaciones, pues llevan de manera natural un órden: primero potencias y raíces, luego multiplicación y división, luego suma y resta. A menos que con los paréntesis indiquemos qué va primero."
   ]
  },
  {
   "cell_type": "code",
   "execution_count": 7,
   "metadata": {},
   "outputs": [
    {
     "data": {
      "text/html": [
       "48"
      ],
      "text/latex": [
       "48"
      ],
      "text/markdown": [
       "48"
      ],
      "text/plain": [
       "[1] 48"
      ]
     },
     "metadata": {},
     "output_type": "display_data"
    }
   ],
   "source": [
    "3+5*9"
   ]
  },
  {
   "cell_type": "code",
   "execution_count": 8,
   "metadata": {},
   "outputs": [
    {
     "data": {
      "text/html": [
       "72"
      ],
      "text/latex": [
       "72"
      ],
      "text/markdown": [
       "72"
      ],
      "text/plain": [
       "[1] 72"
      ]
     },
     "metadata": {},
     "output_type": "display_data"
    }
   ],
   "source": [
    "(3+5)*9"
   ]
  },
  {
   "cell_type": "code",
   "execution_count": 10,
   "metadata": {},
   "outputs": [
    {
     "data": {
      "text/html": [
       "11"
      ],
      "text/latex": [
       "11"
      ],
      "text/markdown": [
       "11"
      ],
      "text/plain": [
       "[1] 11"
      ]
     },
     "metadata": {},
     "output_type": "display_data"
    }
   ],
   "source": [
    "#el acento circunflejo ^ indica potencia\n",
    "2+3^2"
   ]
  },
  {
   "cell_type": "code",
   "execution_count": 11,
   "metadata": {},
   "outputs": [
    {
     "data": {
      "text/html": [
       "25"
      ],
      "text/latex": [
       "25"
      ],
      "text/markdown": [
       "25"
      ],
      "text/plain": [
       "[1] 25"
      ]
     },
     "metadata": {},
     "output_type": "display_data"
    }
   ],
   "source": [
    "(2+3)^2"
   ]
  },
  {
   "cell_type": "markdown",
   "metadata": {},
   "source": [
    "##### 4. Sucesiones de n hasta m"
   ]
  },
  {
   "cell_type": "code",
   "execution_count": 13,
   "metadata": {},
   "outputs": [
    {
     "data": {
      "text/html": [
       "<ol class=list-inline>\n",
       "\t<li>1</li>\n",
       "\t<li>2</li>\n",
       "\t<li>3</li>\n",
       "\t<li>4</li>\n",
       "\t<li>5</li>\n",
       "\t<li>6</li>\n",
       "\t<li>7</li>\n",
       "\t<li>8</li>\n",
       "\t<li>9</li>\n",
       "\t<li>10</li>\n",
       "\t<li>11</li>\n",
       "\t<li>12</li>\n",
       "\t<li>13</li>\n",
       "\t<li>14</li>\n",
       "\t<li>15</li>\n",
       "\t<li>16</li>\n",
       "\t<li>17</li>\n",
       "\t<li>18</li>\n",
       "\t<li>19</li>\n",
       "\t<li>20</li>\n",
       "\t<li>21</li>\n",
       "\t<li>22</li>\n",
       "\t<li>23</li>\n",
       "\t<li>24</li>\n",
       "\t<li>25</li>\n",
       "\t<li>26</li>\n",
       "\t<li>27</li>\n",
       "\t<li>28</li>\n",
       "\t<li>29</li>\n",
       "\t<li>30</li>\n",
       "</ol>\n"
      ],
      "text/latex": [
       "\\begin{enumerate*}\n",
       "\\item 1\n",
       "\\item 2\n",
       "\\item 3\n",
       "\\item 4\n",
       "\\item 5\n",
       "\\item 6\n",
       "\\item 7\n",
       "\\item 8\n",
       "\\item 9\n",
       "\\item 10\n",
       "\\item 11\n",
       "\\item 12\n",
       "\\item 13\n",
       "\\item 14\n",
       "\\item 15\n",
       "\\item 16\n",
       "\\item 17\n",
       "\\item 18\n",
       "\\item 19\n",
       "\\item 20\n",
       "\\item 21\n",
       "\\item 22\n",
       "\\item 23\n",
       "\\item 24\n",
       "\\item 25\n",
       "\\item 26\n",
       "\\item 27\n",
       "\\item 28\n",
       "\\item 29\n",
       "\\item 30\n",
       "\\end{enumerate*}\n"
      ],
      "text/markdown": [
       "1. 1\n",
       "2. 2\n",
       "3. 3\n",
       "4. 4\n",
       "5. 5\n",
       "6. 6\n",
       "7. 7\n",
       "8. 8\n",
       "9. 9\n",
       "10. 10\n",
       "11. 11\n",
       "12. 12\n",
       "13. 13\n",
       "14. 14\n",
       "15. 15\n",
       "16. 16\n",
       "17. 17\n",
       "18. 18\n",
       "19. 19\n",
       "20. 20\n",
       "21. 21\n",
       "22. 22\n",
       "23. 23\n",
       "24. 24\n",
       "25. 25\n",
       "26. 26\n",
       "27. 27\n",
       "28. 28\n",
       "29. 29\n",
       "30. 30\n",
       "\n",
       "\n"
      ],
      "text/plain": [
       " [1]  1  2  3  4  5  6  7  8  9 10 11 12 13 14 15 16 17 18 19 20 21 22 23 24 25\n",
       "[26] 26 27 28 29 30"
      ]
     },
     "metadata": {},
     "output_type": "display_data"
    }
   ],
   "source": [
    "#del 1 al 30\n",
    "1:30"
   ]
  },
  {
   "cell_type": "code",
   "execution_count": 14,
   "metadata": {},
   "outputs": [
    {
     "data": {
      "text/html": [
       "<ol class=list-inline>\n",
       "\t<li>30</li>\n",
       "\t<li>33</li>\n",
       "\t<li>36</li>\n",
       "\t<li>39</li>\n",
       "\t<li>42</li>\n",
       "\t<li>45</li>\n",
       "\t<li>48</li>\n",
       "\t<li>51</li>\n",
       "\t<li>54</li>\n",
       "\t<li>57</li>\n",
       "\t<li>60</li>\n",
       "\t<li>63</li>\n",
       "\t<li>66</li>\n",
       "\t<li>69</li>\n",
       "\t<li>72</li>\n",
       "\t<li>75</li>\n",
       "\t<li>78</li>\n",
       "\t<li>81</li>\n",
       "\t<li>84</li>\n",
       "\t<li>87</li>\n",
       "\t<li>90</li>\n",
       "\t<li>93</li>\n",
       "\t<li>96</li>\n",
       "\t<li>99</li>\n",
       "\t<li>102</li>\n",
       "\t<li>105</li>\n",
       "\t<li>108</li>\n",
       "\t<li>111</li>\n",
       "\t<li>114</li>\n",
       "\t<li>117</li>\n",
       "\t<li>120</li>\n",
       "\t<li>123</li>\n",
       "\t<li>126</li>\n",
       "\t<li>129</li>\n",
       "\t<li>132</li>\n",
       "\t<li>135</li>\n",
       "\t<li>138</li>\n",
       "\t<li>141</li>\n",
       "\t<li>144</li>\n",
       "\t<li>147</li>\n",
       "\t<li>150</li>\n",
       "</ol>\n"
      ],
      "text/latex": [
       "\\begin{enumerate*}\n",
       "\\item 30\n",
       "\\item 33\n",
       "\\item 36\n",
       "\\item 39\n",
       "\\item 42\n",
       "\\item 45\n",
       "\\item 48\n",
       "\\item 51\n",
       "\\item 54\n",
       "\\item 57\n",
       "\\item 60\n",
       "\\item 63\n",
       "\\item 66\n",
       "\\item 69\n",
       "\\item 72\n",
       "\\item 75\n",
       "\\item 78\n",
       "\\item 81\n",
       "\\item 84\n",
       "\\item 87\n",
       "\\item 90\n",
       "\\item 93\n",
       "\\item 96\n",
       "\\item 99\n",
       "\\item 102\n",
       "\\item 105\n",
       "\\item 108\n",
       "\\item 111\n",
       "\\item 114\n",
       "\\item 117\n",
       "\\item 120\n",
       "\\item 123\n",
       "\\item 126\n",
       "\\item 129\n",
       "\\item 132\n",
       "\\item 135\n",
       "\\item 138\n",
       "\\item 141\n",
       "\\item 144\n",
       "\\item 147\n",
       "\\item 150\n",
       "\\end{enumerate*}\n"
      ],
      "text/markdown": [
       "1. 30\n",
       "2. 33\n",
       "3. 36\n",
       "4. 39\n",
       "5. 42\n",
       "6. 45\n",
       "7. 48\n",
       "8. 51\n",
       "9. 54\n",
       "10. 57\n",
       "11. 60\n",
       "12. 63\n",
       "13. 66\n",
       "14. 69\n",
       "15. 72\n",
       "16. 75\n",
       "17. 78\n",
       "18. 81\n",
       "19. 84\n",
       "20. 87\n",
       "21. 90\n",
       "22. 93\n",
       "23. 96\n",
       "24. 99\n",
       "25. 102\n",
       "26. 105\n",
       "27. 108\n",
       "28. 111\n",
       "29. 114\n",
       "30. 117\n",
       "31. 120\n",
       "32. 123\n",
       "33. 126\n",
       "34. 129\n",
       "35. 132\n",
       "36. 135\n",
       "37. 138\n",
       "38. 141\n",
       "39. 144\n",
       "40. 147\n",
       "41. 150\n",
       "\n",
       "\n"
      ],
      "text/plain": [
       " [1]  30  33  36  39  42  45  48  51  54  57  60  63  66  69  72  75  78  81  84\n",
       "[20]  87  90  93  96  99 102 105 108 111 114 117 120 123 126 129 132 135 138 141\n",
       "[39] 144 147 150"
      ]
     },
     "metadata": {},
     "output_type": "display_data"
    }
   ],
   "source": [
    "#del 30 hasta el 150, de 3 en 3\n",
    "seq(from = 30,to = 150,by = 3)"
   ]
  },
  {
   "cell_type": "markdown",
   "metadata": {},
   "source": [
    "##### 5. Vectores mediante comando c()"
   ]
  },
  {
   "cell_type": "code",
   "execution_count": 15,
   "metadata": {},
   "outputs": [
    {
     "data": {
      "text/html": [
       "<ol class=list-inline>\n",
       "\t<li>10</li>\n",
       "\t<li>9.1</li>\n",
       "\t<li>3</li>\n",
       "\t<li>7.5</li>\n",
       "\t<li>6.3</li>\n",
       "\t<li>4.5</li>\n",
       "</ol>\n"
      ],
      "text/latex": [
       "\\begin{enumerate*}\n",
       "\\item 10\n",
       "\\item 9.1\n",
       "\\item 3\n",
       "\\item 7.5\n",
       "\\item 6.3\n",
       "\\item 4.5\n",
       "\\end{enumerate*}\n"
      ],
      "text/markdown": [
       "1. 10\n",
       "2. 9.1\n",
       "3. 3\n",
       "4. 7.5\n",
       "5. 6.3\n",
       "6. 4.5\n",
       "\n",
       "\n"
      ],
      "text/plain": [
       "[1] 10.0  9.1  3.0  7.5  6.3  4.5"
      ]
     },
     "metadata": {},
     "output_type": "display_data"
    }
   ],
   "source": [
    "c(10,9.1,3,7.5,6.3,4.5)"
   ]
  },
  {
   "cell_type": "code",
   "execution_count": 16,
   "metadata": {},
   "outputs": [
    {
     "data": {
      "text/html": [
       "40.4"
      ],
      "text/latex": [
       "40.4"
      ],
      "text/markdown": [
       "40.4"
      ],
      "text/plain": [
       "[1] 40.4"
      ]
     },
     "metadata": {},
     "output_type": "display_data"
    }
   ],
   "source": [
    "#suma total\n",
    "sum(c(10,9.1,3,7.5,6.3,4.5))"
   ]
  },
  {
   "cell_type": "markdown",
   "metadata": {},
   "source": [
    "##### 6. Variables\n",
    "Para no estar anotando cada uno de los datos que vamos a usar una y otra vez, los podemos asignar a una variable que los contenga, y así trabajar sobre ella. Usando para ello el símbolo de asignación '<-' formado del símbolo \"menor que\" (<) y del \"menos\" (-), que juntos \"dibujan uan flecha\" que indica a qué variable se está asignando los valores."
   ]
  },
  {
   "cell_type": "code",
   "execution_count": 18,
   "metadata": {},
   "outputs": [],
   "source": [
    "zeta <- c(10,9.1,3,7.5,6.3,4.5)"
   ]
  },
  {
   "cell_type": "markdown",
   "metadata": {},
   "source": [
    "Tras una asignación exitosa, pareciera que nada ha ocurrido. Hay que invocar la variable por su nombre para que muestre sus valores:"
   ]
  },
  {
   "cell_type": "code",
   "execution_count": 19,
   "metadata": {},
   "outputs": [
    {
     "data": {
      "text/html": [
       "<ol class=list-inline>\n",
       "\t<li>10</li>\n",
       "\t<li>9.1</li>\n",
       "\t<li>3</li>\n",
       "\t<li>7.5</li>\n",
       "\t<li>6.3</li>\n",
       "\t<li>4.5</li>\n",
       "</ol>\n"
      ],
      "text/latex": [
       "\\begin{enumerate*}\n",
       "\\item 10\n",
       "\\item 9.1\n",
       "\\item 3\n",
       "\\item 7.5\n",
       "\\item 6.3\n",
       "\\item 4.5\n",
       "\\end{enumerate*}\n"
      ],
      "text/markdown": [
       "1. 10\n",
       "2. 9.1\n",
       "3. 3\n",
       "4. 7.5\n",
       "5. 6.3\n",
       "6. 4.5\n",
       "\n",
       "\n"
      ],
      "text/plain": [
       "[1] 10.0  9.1  3.0  7.5  6.3  4.5"
      ]
     },
     "metadata": {},
     "output_type": "display_data"
    }
   ],
   "source": [
    "zeta"
   ]
  },
  {
   "cell_type": "code",
   "execution_count": 20,
   "metadata": {},
   "outputs": [
    {
     "data": {
      "text/html": [
       "6.73333333333333"
      ],
      "text/latex": [
       "6.73333333333333"
      ],
      "text/markdown": [
       "6.73333333333333"
      ],
      "text/plain": [
       "[1] 6.733333"
      ]
     },
     "metadata": {},
     "output_type": "display_data"
    }
   ],
   "source": [
    "#media de los valores contenidos en zeta\n",
    "mean(zeta)"
   ]
  },
  {
   "cell_type": "code",
   "execution_count": 21,
   "metadata": {},
   "outputs": [
    {
     "data": {
      "text/html": [
       "6.9"
      ],
      "text/latex": [
       "6.9"
      ],
      "text/markdown": [
       "6.9"
      ],
      "text/plain": [
       "[1] 6.9"
      ]
     },
     "metadata": {},
     "output_type": "display_data"
    }
   ],
   "source": [
    "#mediana de los valores contenidos en zeta\n",
    "median(zeta)"
   ]
  },
  {
   "cell_type": "code",
   "execution_count": 22,
   "metadata": {},
   "outputs": [
    {
     "data": {
      "text/plain": [
       "   Min. 1st Qu.  Median    Mean 3rd Qu.    Max. \n",
       "  3.000   4.950   6.900   6.733   8.700  10.000 "
      ]
     },
     "metadata": {},
     "output_type": "display_data"
    }
   ],
   "source": [
    "#principales valores de zeta (resúmen)\n",
    "summary(zeta)"
   ]
  },
  {
   "cell_type": "markdown",
   "metadata": {},
   "source": [
    "##### 7. El caso de la escuelita imaginaria (sesgado.csv)\n"
   ]
  },
  {
   "cell_type": "markdown",
   "metadata": {},
   "source": [
    "<img src=\"https://i.imgur.com/WxU4EPx.png\" width=\"800\">"
   ]
  },
  {
   "cell_type": "markdown",
   "metadata": {},
   "source": [
    "Para los siguientes ejercicios haremos uso del archivo [sesgado.csv](https://drive.google.com/file/d/1S_snpBmutsCSyq3n4u_OU2q2sZc7kTFf/view?usp=sharing) que está dentro de los materiales de la presente sesión. "
   ]
  },
  {
   "cell_type": "markdown",
   "metadata": {},
   "source": [
    "Hay que asegurarse que dicho archivo esté guardado en la ruta por _default_ de R, que es la carpeta Documentos del usuario activo de Windows, es decir: ![alt text](https://i.imgur.com/uw5vVab.png \"Ruta default\")"
   ]
  },
  {
   "cell_type": "markdown",
   "metadata": {},
   "source": [
    "asignemos a una variable la lectura de datos, para su posterior manejo; y no olvidemos el uso frecuente de la tecla tabulador (esa que tiene la figura de dos flecitas paralelas que apuntan en direcciones opuestas y se halla sobre la tecla de mayúsculas) para el autocompletado de las órdenes:"
   ]
  },
  {
   "cell_type": "code",
   "execution_count": 3,
   "metadata": {},
   "outputs": [],
   "source": [
    "archi <- read.csv(\"sesgado.csv\")"
   ]
  },
  {
   "cell_type": "markdown",
   "metadata": {},
   "source": [
    "para ver la parte inicial de nuestros datos, le ordenamos nos muestre la \"cabecita\" de los datos:"
   ]
  },
  {
   "cell_type": "code",
   "execution_count": 10,
   "metadata": {},
   "outputs": [
    {
     "data": {
      "text/html": [
       "<table>\n",
       "<thead><tr><th scope=col>grupo</th><th scope=col>mate</th><th scope=col>sexo</th></tr></thead>\n",
       "<tbody>\n",
       "\t<tr><td>A   </td><td>7.09</td><td>M   </td></tr>\n",
       "\t<tr><td>A   </td><td>6.14</td><td>F   </td></tr>\n",
       "\t<tr><td>A   </td><td>6.69</td><td>F   </td></tr>\n",
       "\t<tr><td>A   </td><td>8.35</td><td>F   </td></tr>\n",
       "\t<tr><td>A   </td><td>6.67</td><td>F   </td></tr>\n",
       "\t<tr><td>A   </td><td>8.12</td><td>M   </td></tr>\n",
       "</tbody>\n",
       "</table>\n"
      ],
      "text/latex": [
       "\\begin{tabular}{r|lll}\n",
       " grupo & mate & sexo\\\\\n",
       "\\hline\n",
       "\t A    & 7.09 & M   \\\\\n",
       "\t A    & 6.14 & F   \\\\\n",
       "\t A    & 6.69 & F   \\\\\n",
       "\t A    & 8.35 & F   \\\\\n",
       "\t A    & 6.67 & F   \\\\\n",
       "\t A    & 8.12 & M   \\\\\n",
       "\\end{tabular}\n"
      ],
      "text/markdown": [
       "\n",
       "grupo | mate | sexo | \n",
       "|---|---|---|---|---|---|\n",
       "| A    | 7.09 | M    | \n",
       "| A    | 6.14 | F    | \n",
       "| A    | 6.69 | F    | \n",
       "| A    | 8.35 | F    | \n",
       "| A    | 6.67 | F    | \n",
       "| A    | 8.12 | M    | \n",
       "\n",
       "\n"
      ],
      "text/plain": [
       "  grupo mate sexo\n",
       "1 A     7.09 M   \n",
       "2 A     6.14 F   \n",
       "3 A     6.69 F   \n",
       "4 A     8.35 F   \n",
       "5 A     6.67 F   \n",
       "6 A     8.12 M   "
      ]
     },
     "metadata": {},
     "output_type": "display_data"
    }
   ],
   "source": [
    "head(archi)"
   ]
  },
  {
   "cell_type": "markdown",
   "metadata": {},
   "source": [
    "también es posible que nos muestre la parte final o \"colita\" de los datos:"
   ]
  },
  {
   "cell_type": "code",
   "execution_count": 11,
   "metadata": {},
   "outputs": [
    {
     "data": {
      "text/html": [
       "<table>\n",
       "<thead><tr><th></th><th scope=col>grupo</th><th scope=col>mate</th><th scope=col>sexo</th></tr></thead>\n",
       "<tbody>\n",
       "\t<tr><th scope=row>395</th><td>D   </td><td>8.61</td><td>F   </td></tr>\n",
       "\t<tr><th scope=row>396</th><td>D   </td><td>9.65</td><td>M   </td></tr>\n",
       "\t<tr><th scope=row>397</th><td>D   </td><td>8.99</td><td>M   </td></tr>\n",
       "\t<tr><th scope=row>398</th><td>D   </td><td>8.92</td><td>M   </td></tr>\n",
       "\t<tr><th scope=row>399</th><td>D   </td><td>9.42</td><td>F   </td></tr>\n",
       "\t<tr><th scope=row>400</th><td>D   </td><td>8.54</td><td>F   </td></tr>\n",
       "</tbody>\n",
       "</table>\n"
      ],
      "text/latex": [
       "\\begin{tabular}{r|lll}\n",
       "  & grupo & mate & sexo\\\\\n",
       "\\hline\n",
       "\t395 & D    & 8.61 & F   \\\\\n",
       "\t396 & D    & 9.65 & M   \\\\\n",
       "\t397 & D    & 8.99 & M   \\\\\n",
       "\t398 & D    & 8.92 & M   \\\\\n",
       "\t399 & D    & 9.42 & F   \\\\\n",
       "\t400 & D    & 8.54 & F   \\\\\n",
       "\\end{tabular}\n"
      ],
      "text/markdown": [
       "\n",
       "| <!--/--> | grupo | mate | sexo | \n",
       "|---|---|---|---|---|---|\n",
       "| 395 | D    | 8.61 | F    | \n",
       "| 396 | D    | 9.65 | M    | \n",
       "| 397 | D    | 8.99 | M    | \n",
       "| 398 | D    | 8.92 | M    | \n",
       "| 399 | D    | 9.42 | F    | \n",
       "| 400 | D    | 8.54 | F    | \n",
       "\n",
       "\n"
      ],
      "text/plain": [
       "    grupo mate sexo\n",
       "395 D     8.61 F   \n",
       "396 D     9.65 M   \n",
       "397 D     8.99 M   \n",
       "398 D     8.92 M   \n",
       "399 D     9.42 F   \n",
       "400 D     8.54 F   "
      ]
     },
     "metadata": {},
     "output_type": "display_data"
    }
   ],
   "source": [
    "tail(archi,addrownums = T)"
   ]
  },
  {
   "cell_type": "markdown",
   "metadata": {},
   "source": [
    "podemos conocer las principales características de los datos, mediante un resúmen:"
   ]
  },
  {
   "cell_type": "code",
   "execution_count": 13,
   "metadata": {},
   "outputs": [
    {
     "data": {
      "text/plain": [
       " grupo        mate        sexo   \n",
       " A: 99   Min.   : 5.000   F:241  \n",
       " B:100   1st Qu.: 7.607   M:159  \n",
       " C:106   Median : 8.540          \n",
       " D: 95   Mean   : 8.251          \n",
       "         3rd Qu.: 8.953          \n",
       "         Max.   :10.000          "
      ]
     },
     "metadata": {},
     "output_type": "display_data"
    }
   ],
   "source": [
    "summary(archi)"
   ]
  },
  {
   "cell_type": "markdown",
   "metadata": {},
   "source": [
    "hagamos pues un histograma de todas las calificaciones, indicando la variable _mate_ que pertenece a los datos _archi_ mediante '$' (pesos o varos para los amigos):"
   ]
  },
  {
   "cell_type": "code",
   "execution_count": 16,
   "metadata": {},
   "outputs": [
    {
     "data": {
      "image/png": "[encoded data removed]",
      "text/plain": [
       "Plot with title “Histogram of archi$mate”"
      ]
     },
     "metadata": {},
     "output_type": "display_data"
    }
   ],
   "source": [
    "hist(archi$mate)"
   ]
  },
  {
   "cell_type": "markdown",
   "metadata": {},
   "source": [
    "De donde vemos que la calificación más frecuente está entre 8.5 y 9.0 (120 casos), mientras que del órden de 20 alumnos sacaron calificación entre 9.5 y 10.0; lo mismo para los de 5.0 a 5.5 fueron menos de 10. "
   ]
  },
  {
   "cell_type": "markdown",
   "metadata": {},
   "source": [
    "Existe una gráfica muy útil para hacer descripciones de este tipo de datos, llamada _boxplot_ o gráfica de cajas. Y utilizamos el símbolo '~' llamado tilde, para indicar que se _explique_ una variable en términos de otra:"
   ]
  },
  {
   "cell_type": "code",
   "execution_count": 17,
   "metadata": {},
   "outputs": [
    {
     "data": {
      "image/png": "[encoded data removed]",
      "text/plain": [
       "plot without title"
      ]
     },
     "metadata": {},
     "output_type": "display_data"
    }
   ],
   "source": [
    "#las calificaciones explicadas por grupo\n",
    "boxplot(archi$mate ~ archi$grupo)"
   ]
  },
  {
   "cell_type": "markdown",
   "metadata": {},
   "source": [
    "Las marcas del boxplot, son (de abajo hacia arriba): el mínimo, el primer cuartil (inicio de la caja), el **segundo cuartil** (que es equivalente a la **mediana**, la raya gruesa en medio de la caja), el tercer cuartil (final de la caja) y el máximo."
   ]
  },
  {
   "cell_type": "markdown",
   "metadata": {},
   "source": [
    "Aquí podemos decir que, el grupo que en general, salió mejor en calificaciones es el C. Y el más bajo, el A."
   ]
  },
  {
   "cell_type": "code",
   "execution_count": 20,
   "metadata": {},
   "outputs": [
    {
     "data": {
      "image/png": "[encoded data removed]",
      "text/plain": [
       "plot without title"
      ]
     },
     "metadata": {},
     "output_type": "display_data"
    }
   ],
   "source": [
    "#las calificaciones explicadas por sexo\n",
    "boxplot(archi$mate ~ archi$sexo)"
   ]
  },
  {
   "cell_type": "markdown",
   "metadata": {},
   "source": [
    "No hay grandes diferencias entre las calificaciones logradas por mujeres u hombres."
   ]
  },
  {
   "cell_type": "markdown",
   "metadata": {},
   "source": [
    "Finalmente, podemos pedir que las calificaciones se expliquen por más de una variable, utilizando el símbolo de iteración ':' en una orden similar:"
   ]
  },
  {
   "cell_type": "code",
   "execution_count": 19,
   "metadata": {},
   "outputs": [
    {
     "data": {
      "image/png": "[encoded data removed]",
      "text/plain": [
       "plot without title"
      ]
     },
     "metadata": {},
     "output_type": "display_data"
    }
   ],
   "source": [
    "#las calificaciones explicadas por grupo y por sexo\n",
    "boxplot(archi$mate ~ archi$sexo : archi$grupo)"
   ]
  },
  {
   "cell_type": "markdown",
   "metadata": {},
   "source": [
    "De donde podemos observar que las mujeres del grupo A, tienen calificaciones ligeramente mejores que los hombres de su mismo grupo, mientras que los varones del grupo B son claramente mejores."
   ]
  }
 ],
 "metadata": {
  "kernelspec": {
   "display_name": "R",
   "language": "R",
   "name": "ir"
  },
  "language_info": {
   "codemirror_mode": "r",
   "file_extension": ".r",
   "mimetype": "text/x-r-source",
   "name": "R",
   "pygments_lexer": "r",
   "version": "3.5.1"
  }
 },
 "nbformat": 4,
 "nbformat_minor": 2
}
