{
 "cells": [
  {
   "cell_type": "markdown",
   "metadata": {},
   "source": [
    "<img src=\"http://universidadcucii.mx/img/demos/law-firm/logo.png\" width=\"200\">\n",
    "\n",
    "# Universidad CUCII \n",
    "## Doctorado en innovación y administración educativa\n",
    "### Seminario de Investigación 1\n",
    "\n",
    "#### Sesión 02 (2018-11-17)"
   ]
  },
  {
   "cell_type": "markdown",
   "metadata": {},
   "source": [
    "## Conociendo R\n",
    "Todos los alumnos trabajan sobre la consola de RStudio, el programa que tiene el ícono similar a éste:\n",
    "<img src=\"https://www.rstudio.com/wp-content/uploads/2014/07/RStudio-Logo-Blue-Gradient.png\" width=\"200\">\n",
    "Y las órdenes se van tecleando en la consola, misma que se puede personalizar a través de Tools > Global Options > Pane Layout:\n",
    "<img src=\"https://ayeimanolr.files.wordpress.com/2013/04/r-rstudio-1-3-console.png\" width=\"400\">"
   ]
  },
  {
   "cell_type": "markdown",
   "metadata": {},
   "source": []
  },
  {
   "cell_type": "code",
   "execution_count": null,
   "metadata": {},
   "outputs": [],
   "source": []
  },
  {
   "cell_type": "code",
   "execution_count": null,
   "metadata": {},
   "outputs": [],
   "source": []
  },
  {
   "cell_type": "code",
   "execution_count": null,
   "metadata": {},
   "outputs": [],
   "source": []
  },
  {
   "cell_type": "code",
   "execution_count": null,
   "metadata": {},
   "outputs": [],
   "source": []
  }
 ],
 "metadata": {
  "kernelspec": {
   "display_name": "R",
   "language": "R",
   "name": "ir"
  },
  "language_info": {
   "codemirror_mode": "r",
   "file_extension": ".r",
   "mimetype": "text/x-r-source",
   "name": "R",
   "pygments_lexer": "r",
   "version": "3.5.1"
  }
 },
 "nbformat": 4,
 "nbformat_minor": 2
}
